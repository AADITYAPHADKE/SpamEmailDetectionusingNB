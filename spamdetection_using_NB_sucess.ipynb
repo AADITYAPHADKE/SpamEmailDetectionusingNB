{
  "nbformat": 4,
  "nbformat_minor": 0,
  "metadata": {
    "colab": {
      "private_outputs": true,
      "provenance": []
    },
    "kernelspec": {
      "name": "python3",
      "display_name": "Python 3"
    },
    "language_info": {
      "name": "python"
    }
  },
  "cells": [
    {
      "cell_type": "code",
      "execution_count": null,
      "metadata": {
        "id": "bY9ynJlE0kNg"
      },
      "outputs": [],
      "source": [
        "import pandas as pd\n",
        "import numpy as np\n",
        "import matplotlib.pyplot as plt\n",
        "import seaborn as sns\n",
        "from sklearn.model_selection import train_test_split"
      ]
    },
    {
      "cell_type": "code",
      "source": [
        "df = pd.read_csv('/content/spam.csv')\n",
        "df.head()"
      ],
      "metadata": {
        "id": "anLh0GNK0raH"
      },
      "execution_count": null,
      "outputs": []
    },
    {
      "cell_type": "code",
      "source": [
        "df.groupby('Category').describe()"
      ],
      "metadata": {
        "id": "Sicf-mbk0rWh"
      },
      "execution_count": null,
      "outputs": []
    },
    {
      "cell_type": "code",
      "source": [
        "df['spam'] = df['Category'].apply(lambda x: 1 if x=='spam' else 0)\n",
        "df.head() # spam = 1 and ham = 0"
      ],
      "metadata": {
        "id": "Q_WPidnx0rTb"
      },
      "execution_count": null,
      "outputs": []
    },
    {
      "cell_type": "code",
      "source": [
        "X_train,X_test,y_train,y_test = train_test_split(df.Message,df.spam,test_size = 0.25)\n"
      ],
      "metadata": {
        "id": "Mk6s_Xu40rNV"
      },
      "execution_count": null,
      "outputs": []
    },
    {
      "cell_type": "markdown",
      "source": [
        "now to convert message column into numbers we use count vectorizer technique\n",
        "so basically the countvectorizer assign every word a unique number and then differentiat it on bases of it\n"
      ],
      "metadata": {
        "id": "QY9lH-kc5__e"
      }
    },
    {
      "cell_type": "code",
      "source": [
        "from sklearn.feature_extraction.text import CountVectorizer"
      ],
      "metadata": {
        "id": "tTK43k0k0rKS"
      },
      "execution_count": null,
      "outputs": []
    },
    {
      "cell_type": "code",
      "source": [
        "v = CountVectorizer()\n",
        "X_train_count = v.fit_transform(X_train.values)\n",
        "X_train_count.toarray()[:6]"
      ],
      "metadata": {
        "id": "3ctLhRn40rHV"
      },
      "execution_count": null,
      "outputs": []
    },
    {
      "cell_type": "code",
      "source": [
        "X_test.head()"
      ],
      "metadata": {
        "id": "OHi6-9LQAIWe"
      },
      "execution_count": null,
      "outputs": []
    },
    {
      "cell_type": "code",
      "source": [
        "y_test.head()"
      ],
      "metadata": {
        "id": "4skCWAKyAZte"
      },
      "execution_count": null,
      "outputs": []
    },
    {
      "cell_type": "code",
      "source": [
        "X_test_count = v.fit_transform(X_test)\n",
        "X_test_count.toarray()[:6]"
      ],
      "metadata": {
        "id": "J7WD7XLm9s1H"
      },
      "execution_count": null,
      "outputs": []
    },
    {
      "cell_type": "code",
      "source": [
        "X_test_count"
      ],
      "metadata": {
        "id": "j8XnWnf6AxWt"
      },
      "execution_count": null,
      "outputs": []
    },
    {
      "cell_type": "code",
      "source": [
        "from sklearn.naive_bayes import MultinomialNB\n",
        "model = MultinomialNB()"
      ],
      "metadata": {
        "id": "XNZtuQyE6sdb"
      },
      "execution_count": null,
      "outputs": []
    },
    {
      "cell_type": "code",
      "source": [
        "model.fit(X_train_count,y_train)"
      ],
      "metadata": {
        "id": "8nxVsX9j8nHa"
      },
      "execution_count": null,
      "outputs": []
    },
    {
      "cell_type": "code",
      "source": [
        "model.score(X_train_count,y_train)"
      ],
      "metadata": {
        "id": "RjK26oJ38xut"
      },
      "execution_count": null,
      "outputs": []
    },
    {
      "cell_type": "code",
      "source": [
        "emails =['Hey, are you free tonight','Get 200 off on 1000, this is deal is only for you, dont miss the reward']\n"
      ],
      "metadata": {
        "id": "x1bLbvUtTkCc"
      },
      "execution_count": null,
      "outputs": []
    },
    {
      "cell_type": "markdown",
      "source": [
        "#pipeline\n",
        "-pipeline basically decreses the number of steps required to get a result i.e it might include data cleaning,data processing,hypertuning,training etc\n",
        "-here in our case, our pipeline is going to include countvectorizer and data training and predictions\n"
      ],
      "metadata": {
        "id": "wI6WDfv_RuH3"
      }
    },
    {
      "cell_type": "code",
      "source": [
        "from sklearn.pipeline import Pipeline"
      ],
      "metadata": {
        "id": "fej0NKI5B6PZ"
      },
      "execution_count": null,
      "outputs": []
    },
    {
      "cell_type": "code",
      "source": [
        "clf = Pipeline([('vectorizer',CountVectorizer()),('nb',MultinomialNB())])"
      ],
      "metadata": {
        "id": "Zn4k41YGRlqj"
      },
      "execution_count": null,
      "outputs": []
    },
    {
      "cell_type": "markdown",
      "source": [
        "as you can see now our pipeline does 2 tasks\n",
        "this reduces time\n"
      ],
      "metadata": {
        "id": "Ts-f_EX1TR_N"
      }
    },
    {
      "cell_type": "code",
      "source": [
        "clf.fit(X_train,y_train)"
      ],
      "metadata": {
        "id": "5Y1zGnk1TMEE"
      },
      "execution_count": null,
      "outputs": []
    },
    {
      "cell_type": "code",
      "source": [
        "clf.score(X_test,y_test)"
      ],
      "metadata": {
        "id": "lCCHn8N2TPzj"
      },
      "execution_count": null,
      "outputs": []
    },
    {
      "cell_type": "code",
      "source": [
        "clf.predict(emails)"
      ],
      "metadata": {
        "id": "CMohVQ4xTewy"
      },
      "execution_count": null,
      "outputs": []
    },
    {
      "cell_type": "code",
      "source": [],
      "metadata": {
        "id": "0aoTBChRT9vj"
      },
      "execution_count": null,
      "outputs": []
    }
  ]
}